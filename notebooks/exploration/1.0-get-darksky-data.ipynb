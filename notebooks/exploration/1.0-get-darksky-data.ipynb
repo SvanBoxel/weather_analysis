{
 "cells": [
  {
   "cell_type": "markdown",
   "metadata": {},
   "source": [
    "# Well Tempered Data\n",
    "\n",
    "## Weather Analysis Visualization\n",
    "\n",
    "### Part 1: Use `Dark Sky API` to get historical weather data"
   ]
  },
  {
   "cell_type": "code",
   "execution_count": 1,
   "metadata": {},
   "outputs": [
    {
     "data": {
      "text/plain": [
       "True"
      ]
     },
     "execution_count": 1,
     "metadata": {},
     "output_type": "execute_result"
    }
   ],
   "source": [
    "import os\n",
    "import sys\n",
    "from dotenv import load_dotenv\n",
    "\n",
    "PROJ_ROOT = os.path.join(os.pardir, os.pardir)\n",
    "\n",
    "# add local python functions\n",
    "sys.path.append(os.path.join(PROJ_ROOT, \"src\"))\n",
    "\n",
    "# get darksky.io API KEY end other keys from `~/.env`\n",
    "load_dotenv(os.path.join(os.path.expanduser('~'), \".env\"))"
   ]
  },
  {
   "cell_type": "markdown",
   "metadata": {},
   "source": [
    "Specify when notebook was run, and with which packages. Specially useful for nbview, blog posts, and other media where the notebook is not being shared as executable code."
   ]
  },
  {
   "cell_type": "code",
   "execution_count": 2,
   "metadata": {},
   "outputs": [
    {
     "name": "stdout",
     "output_type": "stream",
     "text": [
      "J. Bruno Morgado 2017-04-05 22:53:05 \n",
      "\n",
      "CPython 3.5.3\n",
      "IPython 5.3.0\n",
      "\n",
      "numpy 1.12.1\n",
      "pandas 0.19.2\n",
      "geopy 1.11.0\n",
      "Git hash: 73ed1f32306ec0a6d140c7f5141b238f24299523\n"
     ]
    }
   ],
   "source": [
    "%load_ext watermark\n",
    "%watermark -a \"J. Bruno Morgado\" -d -t -v -p numpy,pandas,geopy -g"
   ]
  },
  {
   "cell_type": "code",
   "execution_count": 3,
   "metadata": {},
   "outputs": [],
   "source": [
    "import pandas as pd\n",
    "import numpy as np\n",
    "import matplotlib as mpl\n",
    "import json\n",
    "from datetime import date, datetime\n",
    "\n",
    "%matplotlib inline"
   ]
  },
  {
   "cell_type": "markdown",
   "metadata": {
    "collapsed": true
   },
   "source": [
    "## Get location and Timezone\n",
    "- Use `geopy` to get the coordinates of the location.\n",
    "- Use `geopy` to get the timezone of the location. This will be needed when importing the json API data into a Pandas dataframe.\n",
    "- Alternatively we could use `tzwhere` to get the timezone offline."
   ]
  },
  {
   "cell_type": "code",
   "execution_count": 4,
   "metadata": {},
   "outputs": [
    {
     "name": "stdout",
     "output_type": "stream",
     "text": [
      "Porto, Portugal\n",
      "41.1579438 -8.629105299999999\n",
      "Europe/Lisbon\n"
     ]
    }
   ],
   "source": [
    "from geopy.geocoders import GoogleV3\n",
    "geolocator = GoogleV3()\n",
    "location = geolocator.geocode(\"Porto, Portugal\")\n",
    "timezone = geolocator.timezone((location.latitude, location.longitude))\n",
    "print(location.address)\n",
    "print(location.latitude, location.longitude)\n",
    "print(timezone)"
   ]
  },
  {
   "cell_type": "markdown",
   "metadata": {},
   "source": [
    "## Get historical weather conditions\n",
    "Use `darksky` API to get the weather data for the location.\n",
    "\n",
    "The relevant documentation can be acessed at: https://darksky.net/dev/docs/time-machine"
   ]
  },
  {
   "cell_type": "code",
   "execution_count": 5,
   "metadata": {
    "collapsed": true
   },
   "outputs": [],
   "source": [
    "import requests\n",
    "\n",
    "def get_weather(latitude, longitude, date, units='auto'):\n",
    "    \"\"\" Takes a location and a day and returns the weather conditions.\n",
    "    \n",
    "        Parameters\n",
    "        ----------\n",
    "        :param latitude: Latitude in float\n",
    "        :param longitude: Longitude in float\n",
    "        :param date: Date for the observation as a datetime.date\n",
    "        :param units: Units. Default auto. Possible values: auto, ca, uk2, us, si\n",
    "        :returns: A JSON object with the dayly weather conditions\n",
    "    \"\"\"\n",
    "    api_forecast_io = 'https://api.forecast.io/forecast/{}/{},{},{}?units={}'\n",
    "    date = '{}T00:00:00'.format(date) \n",
    "    lookup_url = api_forecast_io.format(os.environ.get('DARKSKY_KEY'), latitude, longitude, date, units)\n",
    "    \n",
    "    return(requests.get(lookup_url).json())"
   ]
  },
  {
   "cell_type": "markdown",
   "metadata": {},
   "source": [
    "Use the `get_weather` http **request** to get the weather observations for a specific date."
   ]
  },
  {
   "cell_type": "code",
   "execution_count": 6,
   "metadata": {},
   "outputs": [],
   "source": [
    "# get the weather observations for a specific day in the past\n",
    "date = date(1978, 6, 14)\n",
    "observations = get_weather(location.latitude, location.longitude, date)"
   ]
  },
  {
   "cell_type": "markdown",
   "metadata": {},
   "source": [
    "We can now see what the daily data looks like.\n",
    "\n",
    "More information about the **response** at: https://darksky.net/dev/docs/response"
   ]
  },
  {
   "cell_type": "code",
   "execution_count": 7,
   "metadata": {},
   "outputs": [
    {
     "data": {
      "text/plain": [
       "[{'apparentTemperatureMax': 19.51,\n",
       "  'apparentTemperatureMaxTime': 266677200,\n",
       "  'apparentTemperatureMin': 12.22,\n",
       "  'apparentTemperatureMinTime': 266709600,\n",
       "  'cloudCover': 0.82,\n",
       "  'dewPoint': 11.92,\n",
       "  'humidity': 0.82,\n",
       "  'icon': 'clear-day',\n",
       "  'moonPhase': 0.27,\n",
       "  'precipType': 'rain',\n",
       "  'pressure': 1013.69,\n",
       "  'summary': 'Clear throughout the day.',\n",
       "  'sunriseTime': 266648556,\n",
       "  'sunsetTime': 266702986,\n",
       "  'temperatureMax': 19.51,\n",
       "  'temperatureMaxTime': 266677200,\n",
       "  'temperatureMin': 12.22,\n",
       "  'temperatureMinTime': 266709600,\n",
       "  'time': 266626800,\n",
       "  'visibility': 9.85,\n",
       "  'windBearing': 357,\n",
       "  'windSpeed': 0.8}]"
      ]
     },
     "execution_count": 7,
     "metadata": {},
     "output_type": "execute_result"
    }
   ],
   "source": [
    "observations['daily']['data']"
   ]
  },
  {
   "cell_type": "markdown",
   "metadata": {},
   "source": [
    "## Process received data and plot it\n",
    "\n",
    "- *normalize* the hourly data into a flat table in `pandas`.\n",
    "- Convert the `time` field into a readable `datetime` format:\n",
    "    - Localize the `datetime` in *UTC*.\n",
    "    - Convert the `datetime` to the local `timezone`.\n",
    "- Use the `time` as index.\n",
    "- Plot the `temperature` for the hourly data."
   ]
  },
  {
   "cell_type": "code",
   "execution_count": 8,
   "metadata": {},
   "outputs": [
    {
     "data": {
      "text/plain": [
       "<matplotlib.axes._subplots.AxesSubplot at 0x107048ef0>"
      ]
     },
     "execution_count": 8,
     "metadata": {},
     "output_type": "execute_result"
    },
    {
     "data": {
      "image/png": "[encoded data removed]",
      "text/plain": [
       "<matplotlib.figure.Figure at 0x1070484a8>"
      ]
     },
     "metadata": {},
     "output_type": "display_data"
    }
   ],
   "source": [
    "hourly_data = observations['hourly']['data']\n",
    "hourly = pd.io.json.json_normalize(hourly_data)\n",
    "hourly['time'] = pd.to_datetime(hourly['time'], unit='s', infer_datetime_format=True).dt.tz_localize('UTC').dt.tz_convert(timezone)\n",
    "hourly.set_index('time', inplace=True)\n",
    "hourly.temperature.plot()"
   ]
  }
 ],
 "metadata": {
  "anaconda-cloud": {},
  "kernelspec": {
   "display_name": "Python [conda env:weather_analysis]",
   "language": "python",
   "name": "conda-env-weather_analysis-py"
  },
  "language_info": {
   "codemirror_mode": {
    "name": "ipython",
    "version": 3
   },
   "file_extension": ".py",
   "mimetype": "text/x-python",
   "name": "python",
   "nbconvert_exporter": "python",
   "pygments_lexer": "ipython3",
   "version": "3.5.3"
  }
 },
 "nbformat": 4,
 "nbformat_minor": 1
}
